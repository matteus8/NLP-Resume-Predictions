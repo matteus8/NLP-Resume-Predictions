{
 "cells": [
  {
   "cell_type": "code",
   "execution_count": 54,
   "id": "a9605f74",
   "metadata": {},
   "outputs": [
    {
     "name": "stdout",
     "output_type": "stream",
     "text": [
      "Requirement already satisfied: PyPDF2 in c:\\users\\matte\\anaconda3\\lib\\site-packages (3.0.1)\n"
     ]
    }
   ],
   "source": [
    "!pip install PyPDF2\n",
    "\n",
    "import os\n",
    "import pandas as pd\n",
    "from pdfminer.high_level import extract_text\n",
    "import PyPDF2"
   ]
  },
  {
   "cell_type": "markdown",
   "id": "53536ab1",
   "metadata": {},
   "source": [
    "## Exception handling"
   ]
  },
  {
   "cell_type": "code",
   "execution_count": 68,
   "id": "6d541247",
   "metadata": {},
   "outputs": [],
   "source": [
    "def extract_text_from_pdf(pdf_path):\n",
    "    try:\n",
    "        with open(pdf_path, 'rb') as file:\n",
    "            reader = PyPDF2.PdfReader(file)\n",
    "            text = \"\"\n",
    "            for page in reader.pages:\n",
    "                text += page.extract_text()\n",
    "            return text\n",
    "    except Exception as e:\n",
    "        print(f\"Error extracting from {pdf_path}: {e}\")\n",
    "        return None\n"
   ]
  },
  {
   "cell_type": "markdown",
   "id": "34593a79",
   "metadata": {},
   "source": [
    "## Define File Paths"
   ]
  },
  {
   "cell_type": "code",
   "execution_count": 69,
   "id": "9d3a9008",
   "metadata": {},
   "outputs": [],
   "source": [
    "#folder paths\n",
    "base_folder_path = \"C:\\\\Users\\\\matte\\\\Desktop\\\\ML-AI\\\\Untitled Folder\\\\data\\\\data\\\\data\"\n",
    "categories = [\"HR\", \"Designer\", \"Information-Technology\", \"Teacher\", \"Advocate\", \"Business-Development\", \"Healthcare\"]"
   ]
  },
  {
   "cell_type": "markdown",
   "id": "4352de3f",
   "metadata": {},
   "source": [
    "## Loop Through File Path and create dictionary"
   ]
  },
  {
   "cell_type": "code",
   "execution_count": 70,
   "id": "11a54c1c",
   "metadata": {},
   "outputs": [],
   "source": [
    "all_data = []"
   ]
  },
  {
   "cell_type": "code",
   "execution_count": 71,
   "id": "baba3b65",
   "metadata": {},
   "outputs": [
    {
     "name": "stdout",
     "output_type": "stream",
     "text": [
      "Adding all pdf text from HR\n",
      "Adding all pdf text from Designer\n",
      "Adding all pdf text from Information-Technology\n",
      "Adding all pdf text from Teacher\n",
      "Adding all pdf text from Advocate\n",
      "Adding all pdf text from Business-Development\n",
      "Adding all pdf text from Healthcare\n"
     ]
    }
   ],
   "source": [
    "for category in categories:\n",
    "    print(f'Adding all pdf text from {category}')\n",
    "    folder_path = os.path.join(base_folder_path, category.upper())\n",
    "    for file_name in os.listdir(folder_path):\n",
    "        full_path = os.path.join(folder_path, file_name)\n",
    "        text = extract_text_from_pdf(full_path)\n",
    "        if text:\n",
    "            all_data.append({\n",
    "                'Category': category,\n",
    "                'FileName': file_name,\n",
    "                'Text': text.strip()\n",
    "            })"
   ]
  },
  {
   "cell_type": "code",
   "execution_count": null,
   "id": "77b6bc8f",
   "metadata": {},
   "outputs": [],
   "source": []
  },
  {
   "cell_type": "markdown",
   "id": "f86790cf",
   "metadata": {},
   "source": [
    "## Create the Data Frame"
   ]
  },
  {
   "cell_type": "code",
   "execution_count": 85,
   "id": "a70754ce",
   "metadata": {},
   "outputs": [],
   "source": [
    "df = pd.DataFrame(all_data)"
   ]
  },
  {
   "cell_type": "code",
   "execution_count": 105,
   "id": "8d3e99d4",
   "metadata": {
    "scrolled": false
   },
   "outputs": [
    {
     "name": "stdout",
     "output_type": "stream",
     "text": [
      "0      HR PERSONNEL ASSISTANT\\nSummary\\nI am a U.S. c...\n",
      "1      HR BENEFITS/LEAVE COORDINATOR\\nSummary\\n13 yea...\n",
      "2      HR MANAGER\\nSummary\\nHuman Resources Manager w...\n",
      "3      HR GENERALIST\\nSummary\\nDedicated and focused ...\n",
      "4      HR EMPLOYEE RELATIONS SPECIALIST\\nSummary\\nDed...\n",
      "                             ...                        \n",
      "386    PERSONAL HEALTHCARE ASSISTANT\\nProfessional Su...\n",
      "387    OCCUPATIONAL HEALTH NURSE COORDINATOR\\nProfess...\n",
      "388    KEY ACCOUNT MANAGER\\nSummary\\nAccomplished pha...\n",
      "389    TEACHER ASSISTANT\\nSummary\\nSeeking a challeng...\n",
      "390    OFFICE MANAGER/MANAGING DIRECTOR\\nProfessional...\n",
      "Name: Text, Length: 391, dtype: object\n"
     ]
    }
   ],
   "source": [
    "print(df['Text'])\n"
   ]
  },
  {
   "cell_type": "markdown",
   "id": "e50b46db",
   "metadata": {},
   "source": [
    "## Create csv file"
   ]
  },
  {
   "cell_type": "code",
   "execution_count": 97,
   "id": "b488afce",
   "metadata": {},
   "outputs": [],
   "source": [
    "# Save to a CSV if needed\n",
    "df.to_csv(\"extracted_resume_texts_4.csv\", index=False)"
   ]
  },
  {
   "cell_type": "markdown",
   "id": "5021f5c4",
   "metadata": {},
   "source": [
    "# Begin NLP Pre-Processing"
   ]
  },
  {
   "cell_type": "markdown",
   "id": "82cac775",
   "metadata": {},
   "source": [
    "Before training a model, the data needs be preprocessed:\n",
    "\n",
    "Tokenization: Breaking the text into individual words or tokens.\n",
    "Stop words removal: Removing common words that do not contribute much to the content.\n",
    "Vectorization: Converting text data into a numerical format using techniques like TF-IDF."
   ]
  },
  {
   "cell_type": "markdown",
   "id": "589878c7",
   "metadata": {},
   "source": [
    "## Import sklearn to do the heavy lifting"
   ]
  },
  {
   "cell_type": "code",
   "execution_count": 88,
   "id": "e7ba2876",
   "metadata": {},
   "outputs": [],
   "source": [
    "from sklearn.model_selection import train_test_split\n",
    "from sklearn.feature_extraction.text import TfidfVectorizer\n",
    "from sklearn.linear_model import LogisticRegression\n",
    "from sklearn.metrics import accuracy_score, classification_report"
   ]
  },
  {
   "cell_type": "code",
   "execution_count": 89,
   "id": "505d370d",
   "metadata": {},
   "outputs": [],
   "source": [
    "# From above, use the 'df' as the DataFrame\n",
    "X = df['Text']  # Extracting the resume content as features\n",
    "y = df['Category']  # Extracting the job categories as labels"
   ]
  },
  {
   "cell_type": "markdown",
   "id": "6a8af196",
   "metadata": {},
   "source": [
    "## Splitting the data "
   ]
  },
  {
   "cell_type": "code",
   "execution_count": 91,
   "id": "ae68726a",
   "metadata": {},
   "outputs": [],
   "source": [
    "# Splitting the data into a training set and a test set (80% train, 20% test)\n",
    "X_train, X_test, y_train, y_test = train_test_split(X, y, test_size=0.2, random_state=42)"
   ]
  },
  {
   "cell_type": "markdown",
   "id": "fe2d7d0c",
   "metadata": {},
   "source": [
    "## Begin Pre-Processing"
   ]
  },
  {
   "cell_type": "code",
   "execution_count": 92,
   "id": "3262ace1",
   "metadata": {},
   "outputs": [],
   "source": [
    "# Vectorizing the text data using TF-IDF (this includes tokenization, stop words removal, and vectorization)\n",
    "# - stop_words='english': Removes common English words (like 'and', 'the', etc.) that don't contain useful information\n",
    "# - max_features=5000: Limits the vector length to the top 5000 terms by frequency\n",
    "vectorizer = TfidfVectorizer(stop_words='english', max_features=5000)\n",
    "X_train_transformed = vectorizer.fit_transform(X_train)  # Fit to the training data and transform it\n",
    "X_test_transformed = vectorizer.transform(X_test)  # Transform the test data"
   ]
  },
  {
   "cell_type": "markdown",
   "id": "0674f157",
   "metadata": {},
   "source": [
    "## Training a classifier using Logistic Regression"
   ]
  },
  {
   "cell_type": "code",
   "execution_count": 93,
   "id": "ee67acf2",
   "metadata": {},
   "outputs": [
    {
     "data": {
      "text/html": [
       "<style>#sk-container-id-6 {color: black;background-color: white;}#sk-container-id-6 pre{padding: 0;}#sk-container-id-6 div.sk-toggleable {background-color: white;}#sk-container-id-6 label.sk-toggleable__label {cursor: pointer;display: block;width: 100%;margin-bottom: 0;padding: 0.3em;box-sizing: border-box;text-align: center;}#sk-container-id-6 label.sk-toggleable__label-arrow:before {content: \"▸\";float: left;margin-right: 0.25em;color: #696969;}#sk-container-id-6 label.sk-toggleable__label-arrow:hover:before {color: black;}#sk-container-id-6 div.sk-estimator:hover label.sk-toggleable__label-arrow:before {color: black;}#sk-container-id-6 div.sk-toggleable__content {max-height: 0;max-width: 0;overflow: hidden;text-align: left;background-color: #f0f8ff;}#sk-container-id-6 div.sk-toggleable__content pre {margin: 0.2em;color: black;border-radius: 0.25em;background-color: #f0f8ff;}#sk-container-id-6 input.sk-toggleable__control:checked~div.sk-toggleable__content {max-height: 200px;max-width: 100%;overflow: auto;}#sk-container-id-6 input.sk-toggleable__control:checked~label.sk-toggleable__label-arrow:before {content: \"▾\";}#sk-container-id-6 div.sk-estimator input.sk-toggleable__control:checked~label.sk-toggleable__label {background-color: #d4ebff;}#sk-container-id-6 div.sk-label input.sk-toggleable__control:checked~label.sk-toggleable__label {background-color: #d4ebff;}#sk-container-id-6 input.sk-hidden--visually {border: 0;clip: rect(1px 1px 1px 1px);clip: rect(1px, 1px, 1px, 1px);height: 1px;margin: -1px;overflow: hidden;padding: 0;position: absolute;width: 1px;}#sk-container-id-6 div.sk-estimator {font-family: monospace;background-color: #f0f8ff;border: 1px dotted black;border-radius: 0.25em;box-sizing: border-box;margin-bottom: 0.5em;}#sk-container-id-6 div.sk-estimator:hover {background-color: #d4ebff;}#sk-container-id-6 div.sk-parallel-item::after {content: \"\";width: 100%;border-bottom: 1px solid gray;flex-grow: 1;}#sk-container-id-6 div.sk-label:hover label.sk-toggleable__label {background-color: #d4ebff;}#sk-container-id-6 div.sk-serial::before {content: \"\";position: absolute;border-left: 1px solid gray;box-sizing: border-box;top: 0;bottom: 0;left: 50%;z-index: 0;}#sk-container-id-6 div.sk-serial {display: flex;flex-direction: column;align-items: center;background-color: white;padding-right: 0.2em;padding-left: 0.2em;position: relative;}#sk-container-id-6 div.sk-item {position: relative;z-index: 1;}#sk-container-id-6 div.sk-parallel {display: flex;align-items: stretch;justify-content: center;background-color: white;position: relative;}#sk-container-id-6 div.sk-item::before, #sk-container-id-6 div.sk-parallel-item::before {content: \"\";position: absolute;border-left: 1px solid gray;box-sizing: border-box;top: 0;bottom: 0;left: 50%;z-index: -1;}#sk-container-id-6 div.sk-parallel-item {display: flex;flex-direction: column;z-index: 1;position: relative;background-color: white;}#sk-container-id-6 div.sk-parallel-item:first-child::after {align-self: flex-end;width: 50%;}#sk-container-id-6 div.sk-parallel-item:last-child::after {align-self: flex-start;width: 50%;}#sk-container-id-6 div.sk-parallel-item:only-child::after {width: 0;}#sk-container-id-6 div.sk-dashed-wrapped {border: 1px dashed gray;margin: 0 0.4em 0.5em 0.4em;box-sizing: border-box;padding-bottom: 0.4em;background-color: white;}#sk-container-id-6 div.sk-label label {font-family: monospace;font-weight: bold;display: inline-block;line-height: 1.2em;}#sk-container-id-6 div.sk-label-container {text-align: center;}#sk-container-id-6 div.sk-container {/* jupyter's `normalize.less` sets `[hidden] { display: none; }` but bootstrap.min.css set `[hidden] { display: none !important; }` so we also need the `!important` here to be able to override the default hidden behavior on the sphinx rendered scikit-learn.org. See: https://github.com/scikit-learn/scikit-learn/issues/21755 */display: inline-block !important;position: relative;}#sk-container-id-6 div.sk-text-repr-fallback {display: none;}</style><div id=\"sk-container-id-6\" class=\"sk-top-container\"><div class=\"sk-text-repr-fallback\"><pre>LogisticRegression(max_iter=1000)</pre><b>In a Jupyter environment, please rerun this cell to show the HTML representation or trust the notebook. <br />On GitHub, the HTML representation is unable to render, please try loading this page with nbviewer.org.</b></div><div class=\"sk-container\" hidden><div class=\"sk-item\"><div class=\"sk-estimator sk-toggleable\"><input class=\"sk-toggleable__control sk-hidden--visually\" id=\"sk-estimator-id-6\" type=\"checkbox\" checked><label for=\"sk-estimator-id-6\" class=\"sk-toggleable__label sk-toggleable__label-arrow\">LogisticRegression</label><div class=\"sk-toggleable__content\"><pre>LogisticRegression(max_iter=1000)</pre></div></div></div></div></div>"
      ],
      "text/plain": [
       "LogisticRegression(max_iter=1000)"
      ]
     },
     "execution_count": 93,
     "metadata": {},
     "output_type": "execute_result"
    }
   ],
   "source": [
    "# - max_iter=1000: Maximum number of iterations for the optimization algorithm to converge\n",
    "clf = LogisticRegression(max_iter=1000)\n",
    "clf.fit(X_train_transformed, y_train)"
   ]
  },
  {
   "cell_type": "code",
   "execution_count": 94,
   "id": "cd1a8cbf",
   "metadata": {},
   "outputs": [],
   "source": [
    "# Predicting job categories on the test set\n",
    "y_pred = clf.predict(X_test_transformed)"
   ]
  },
  {
   "cell_type": "markdown",
   "id": "1f81dce4",
   "metadata": {},
   "source": [
    "## Printing the Evaluation of the model"
   ]
  },
  {
   "cell_type": "code",
   "execution_count": 95,
   "id": "46668055",
   "metadata": {
    "scrolled": true
   },
   "outputs": [
    {
     "name": "stdout",
     "output_type": "stream",
     "text": [
      "Accuracy: 0.7341772151898734\n",
      "                        precision    recall  f1-score   support\n",
      "\n",
      "              Advocate       0.41      0.78      0.54         9\n",
      "  Business-Development       0.72      0.76      0.74        17\n",
      "              Designer       0.87      0.96      0.92        28\n",
      "                    HR       1.00      0.00      0.00         3\n",
      "            Healthcare       1.00      0.00      0.00         6\n",
      "Information-Technology       0.80      0.73      0.76        11\n",
      "               Teacher       1.00      0.60      0.75         5\n",
      "\n",
      "              accuracy                           0.73        79\n",
      "             macro avg       0.83      0.55      0.53        79\n",
      "          weighted avg       0.80      0.73      0.70        79\n",
      "\n"
     ]
    }
   ],
   "source": [
    "# Accuracy gives a simple ratio of correct predictions to total predictions\n",
    "print(\"Accuracy:\", accuracy_score(y_test, y_pred))\n",
    "# Classification report provides a breakdown of the model's performance for each category (precision, recall, f1-score)\n",
    "print(classification_report(y_test, y_pred, zero_division=1))"
   ]
  },
  {
   "cell_type": "code",
   "execution_count": null,
   "id": "3d8ccb3e",
   "metadata": {},
   "outputs": [],
   "source": []
  },
  {
   "cell_type": "code",
   "execution_count": null,
   "id": "511c5788",
   "metadata": {},
   "outputs": [],
   "source": []
  },
  {
   "cell_type": "code",
   "execution_count": null,
   "id": "a1702e99",
   "metadata": {},
   "outputs": [],
   "source": []
  },
  {
   "cell_type": "code",
   "execution_count": null,
   "id": "5d969b11",
   "metadata": {},
   "outputs": [],
   "source": []
  },
  {
   "cell_type": "code",
   "execution_count": null,
   "id": "f1509a94",
   "metadata": {},
   "outputs": [],
   "source": []
  }
 ],
 "metadata": {
  "kernelspec": {
   "display_name": "Python 3 (ipykernel)",
   "language": "python",
   "name": "python3"
  },
  "language_info": {
   "codemirror_mode": {
    "name": "ipython",
    "version": 3
   },
   "file_extension": ".py",
   "mimetype": "text/x-python",
   "name": "python",
   "nbconvert_exporter": "python",
   "pygments_lexer": "ipython3",
   "version": "3.10.9"
  }
 },
 "nbformat": 4,
 "nbformat_minor": 5
}
